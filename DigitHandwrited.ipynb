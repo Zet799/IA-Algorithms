{
  "nbformat": 4,
  "nbformat_minor": 0,
  "metadata": {
    "colab": {
      "name": "DigitHandwrited.ipynb",
      "provenance": []
    },
    "kernelspec": {
      "name": "python3",
      "display_name": "Python 3"
    },
    "accelerator": "GPU"
  },
  "cells": [
    {
      "cell_type": "code",
      "metadata": {
        "id": "c4nYSyrwlkwL"
      },
      "source": [
        "import pandas as pd\r\n",
        "import numpy as np\r\n",
        "import matplotlib.pyplot as plt\r\n",
        "\r\n",
        "from sklearn.model_selection import train_test_split"
      ],
      "execution_count": 4,
      "outputs": []
    },
    {
      "cell_type": "code",
      "metadata": {
        "id": "ZuBiS7-WlzT5",
        "outputId": "087277bc-d552-4962-be7a-33a56900a5be",
        "colab": {
          "base_uri": "https://localhost:8080/"
        }
      },
      "source": [
        "train_data = pd.read_csv('train.csv')\r\n",
        "train_data.info"
      ],
      "execution_count": 5,
      "outputs": [
        {
          "output_type": "execute_result",
          "data": {
            "text/plain": [
              "<bound method DataFrame.info of        5  0  0.1  0.2  0.3  0.4  ...  0.612  0.613  0.614  0.615  0.616  0.617\n",
              "0      0  0    0    0    0    0  ...      0      0      0      0      0      0\n",
              "1      4  0    0    0    0    0  ...      0      0      0      0      0      0\n",
              "2      1  0    0    0    0    0  ...      0      0      0      0      0      0\n",
              "3      9  0    0    0    0    0  ...      0      0      0      0      0      0\n",
              "4      2  0    0    0    0    0  ...      0      0      0      0      0      0\n",
              "...   .. ..  ...  ...  ...  ...  ...    ...    ...    ...    ...    ...    ...\n",
              "59994  8  0    0    0    0    0  ...      0      0      0      0      0      0\n",
              "59995  3  0    0    0    0    0  ...      0      0      0      0      0      0\n",
              "59996  5  0    0    0    0    0  ...      0      0      0      0      0      0\n",
              "59997  6  0    0    0    0    0  ...      0      0      0      0      0      0\n",
              "59998  8  0    0    0    0    0  ...      0      0      0      0      0      0\n",
              "\n",
              "[59999 rows x 785 columns]>"
            ]
          },
          "metadata": {
            "tags": []
          },
          "execution_count": 5
        }
      ]
    },
    {
      "cell_type": "code",
      "metadata": {
        "id": "pf6jZsxImBZ8"
      },
      "source": [
        "X_data, y_data = train_data.values[:,1:], train_data.values[:,0]\r\n",
        "X_data = X_data / 255.0"
      ],
      "execution_count": 6,
      "outputs": []
    },
    {
      "cell_type": "code",
      "metadata": {
        "id": "ygdRaQMtoypn"
      },
      "source": [
        "from keras.models import Sequential\r\n",
        "from keras.layers import Dense, Activation\r\n",
        "from keras.layers import Convolution2D, MaxPooling2D, Reshape, BatchNormalization, Flatten\r\n",
        "from keras.losses import sparse_categorical_crossentropy"
      ],
      "execution_count": 7,
      "outputs": []
    },
    {
      "cell_type": "code",
      "metadata": {
        "id": "harhJJq8rNKD"
      },
      "source": [
        "model = Sequential()\r\n",
        "model.add(Reshape(input_shape=(784,), target_shape=(28, 28, 1)))\r\n",
        "model.add(Convolution2D(6, (3,3), activation='relu'))\r\n",
        "model.add(BatchNormalization(axis=1))\r\n",
        "model.add(Convolution2D(16, (3,3), activation='relu'))\r\n",
        "model.add(MaxPooling2D())\r\n",
        "model.add(Flatten())\r\n",
        "model.add(BatchNormalization())\r\n",
        "model.add(Dense(120, activation='relu'))\r\n",
        "model.add(BatchNormalization())\r\n",
        "model.add(Dense(100, activation='relu'))\r\n",
        "model.add(BatchNormalization())\r\n",
        "model.add(Dense(10, activation='softmax'))"
      ],
      "execution_count": 8,
      "outputs": []
    },
    {
      "cell_type": "code",
      "metadata": {
        "id": "JTmYN22msKjK"
      },
      "source": [
        "model.compile(loss='sparse_categorical_crossentropy', optimizer='adam',metrics=['accuracy'])"
      ],
      "execution_count": 9,
      "outputs": []
    },
    {
      "cell_type": "code",
      "metadata": {
        "colab": {
          "base_uri": "https://localhost:8080/"
        },
        "id": "9--E4Ap3uCR3",
        "outputId": "9adfdbbf-86c4-447f-bd97-24bfb75ea4bf"
      },
      "source": [
        "print(model.summary())"
      ],
      "execution_count": 10,
      "outputs": [
        {
          "output_type": "stream",
          "text": [
            "Model: \"sequential\"\n",
            "_________________________________________________________________\n",
            "Layer (type)                 Output Shape              Param #   \n",
            "=================================================================\n",
            "reshape (Reshape)            (None, 28, 28, 1)         0         \n",
            "_________________________________________________________________\n",
            "conv2d (Conv2D)              (None, 26, 26, 6)         60        \n",
            "_________________________________________________________________\n",
            "batch_normalization (BatchNo (None, 26, 26, 6)         104       \n",
            "_________________________________________________________________\n",
            "conv2d_1 (Conv2D)            (None, 24, 24, 16)        880       \n",
            "_________________________________________________________________\n",
            "max_pooling2d (MaxPooling2D) (None, 12, 12, 16)        0         \n",
            "_________________________________________________________________\n",
            "flatten (Flatten)            (None, 2304)              0         \n",
            "_________________________________________________________________\n",
            "batch_normalization_1 (Batch (None, 2304)              9216      \n",
            "_________________________________________________________________\n",
            "dense (Dense)                (None, 120)               276600    \n",
            "_________________________________________________________________\n",
            "batch_normalization_2 (Batch (None, 120)               480       \n",
            "_________________________________________________________________\n",
            "dense_1 (Dense)              (None, 100)               12100     \n",
            "_________________________________________________________________\n",
            "batch_normalization_3 (Batch (None, 100)               400       \n",
            "_________________________________________________________________\n",
            "dense_2 (Dense)              (None, 10)                1010      \n",
            "=================================================================\n",
            "Total params: 300,850\n",
            "Trainable params: 295,750\n",
            "Non-trainable params: 5,100\n",
            "_________________________________________________________________\n",
            "None\n"
          ],
          "name": "stdout"
        }
      ]
    },
    {
      "cell_type": "code",
      "metadata": {
        "id": "m_6eg45esw2f"
      },
      "source": [
        "X_train, X_test, y_train, y_test = train_test_split(X_data, y_data, test_size = .1)"
      ],
      "execution_count": 11,
      "outputs": []
    },
    {
      "cell_type": "code",
      "metadata": {
        "id": "hTfqyYD1s6MZ"
      },
      "source": [
        "X_train, X_val, y_train, y_val = train_test_split(X_train, y_train, test_size = .2)"
      ],
      "execution_count": 12,
      "outputs": []
    },
    {
      "cell_type": "code",
      "metadata": {
        "colab": {
          "base_uri": "https://localhost:8080/"
        },
        "id": "VK4JPklAsVQF",
        "outputId": "4bd6baf3-b5f2-4eb0-fd1e-cdcfaf8e10f7"
      },
      "source": [
        "import time\r\n",
        "start_time = time.time()\r\n",
        "\r\n",
        "model.fit(X_train, y_train, batch_size=128, epochs=5, validation_data=(X_val,y_val))\r\n",
        "\r\n",
        "print(\"--- %s seconds ---\" % (time.time() - start_time))"
      ],
      "execution_count": 13,
      "outputs": [
        {
          "output_type": "stream",
          "text": [
            "Epoch 1/5\n",
            "338/338 [==============================] - 2s 6ms/step - loss: 0.1663 - accuracy: 0.9505 - val_loss: 0.5508 - val_accuracy: 0.8129\n",
            "Epoch 2/5\n",
            "338/338 [==============================] - 2s 5ms/step - loss: 0.0445 - accuracy: 0.9867 - val_loss: 0.0509 - val_accuracy: 0.9838\n",
            "Epoch 3/5\n",
            "338/338 [==============================] - 2s 5ms/step - loss: 0.0274 - accuracy: 0.9916 - val_loss: 0.0570 - val_accuracy: 0.9819\n",
            "Epoch 4/5\n",
            "338/338 [==============================] - 2s 6ms/step - loss: 0.0200 - accuracy: 0.9939 - val_loss: 0.0541 - val_accuracy: 0.9848\n",
            "Epoch 5/5\n",
            "338/338 [==============================] - 2s 5ms/step - loss: 0.0127 - accuracy: 0.9965 - val_loss: 0.0585 - val_accuracy: 0.9832\n",
            "--- 17.181389331817627 seconds ---\n"
          ],
          "name": "stdout"
        }
      ]
    },
    {
      "cell_type": "code",
      "metadata": {
        "colab": {
          "base_uri": "https://localhost:8080/"
        },
        "id": "yuFZOcyIvFSB",
        "outputId": "c4395493-00f3-449d-c4e9-1320f30257b2"
      },
      "source": [
        "valid_loss, valid_acc = model.evaluate(X_test, y_test, verbose=2)\r\n",
        "print('Valid accuracy:', valid_acc)"
      ],
      "execution_count": 14,
      "outputs": [
        {
          "output_type": "stream",
          "text": [
            "188/188 - 0s - loss: 0.0535 - accuracy: 0.9848\n",
            "Valid accuracy: 0.9848333597183228\n"
          ],
          "name": "stdout"
        }
      ]
    },
    {
      "cell_type": "code",
      "metadata": {
        "colab": {
          "base_uri": "https://localhost:8080/",
          "height": 593
        },
        "id": "mosCNdI_vUZ4",
        "outputId": "5f1e946d-1142-4244-bbc6-706ec4f6c8d9"
      },
      "source": [
        "fig=plt.figure(figsize=(10, 10))\r\n",
        "columns = 4\r\n",
        "rows = 4\r\n",
        "for i in range(0, columns*rows):\r\n",
        "    img = np.array(X_train[i]).reshape(28,28)\r\n",
        "    fig.add_subplot(rows, columns, i+1)\r\n",
        "    plt.imshow(img, interpolation='nearest',cmap=plt.cm.gray_r)\r\n",
        "plt.show()"
      ],
      "execution_count": 15,
      "outputs": [
        {
          "output_type": "display_data",
          "data": {
            "image/png": "[encoded data removed]",
            "text/plain": [
              "<Figure size 720x720 with 16 Axes>"
            ]
          },
          "metadata": {
            "tags": [],
            "needs_background": "light"
          }
        }
      ]
    }
  ]
}